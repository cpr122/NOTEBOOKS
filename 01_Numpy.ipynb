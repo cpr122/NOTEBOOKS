{
 "cells": [
  {
   "cell_type": "markdown",
   "id": "a58ca995-31b7-4814-af08-e13f82373f22",
   "metadata": {},
   "source": [
    "# Introducción a Numpy"
   ]
  },
  {
   "cell_type": "markdown",
   "id": "a32e185c-c5ec-419a-84de-3d86a2ef4caa",
   "metadata": {},
   "source": [
    "[Numpy](https://numpy.org/install/) es una biblioteca fundamental para la computación científica con Python.\n",
    "* Proporciona arrays N-dimensionales.\n",
    "* Implementa funciones matemáticas sofisticadas.\n",
    "* Proporciona herramientas para integrar C/C++ y Fortran.\n",
    "* Proporciona mecanismos para facilitar la realización de tareas relacionadas con álgebra lineal o números aleatorios."
   ]
  },
  {
   "cell_type": "markdown",
   "id": "53d5fc0c-e2c0-483b-9ebe-988f4aaf79c4",
   "metadata": {},
   "source": [
    "## Imports"
   ]
  },
  {
   "cell_type": "code",
   "execution_count": 1,
   "id": "0e94d970-a144-49c5-bc07-c85366ae21db",
   "metadata": {},
   "outputs": [],
   "source": [
    "import numpy as np"
   ]
  },
  {
   "cell_type": "markdown",
   "id": "a2482c42-969c-4683-b5ba-3a79051fc061",
   "metadata": {},
   "source": [
    "## Arrays"
   ]
  },
  {
   "cell_type": "markdown",
   "id": "a574b0de-2d86-45a9-902a-4749b41bf6a6",
   "metadata": {},
   "source": [
    "Un **array** es una estructura de datos que consiste en una colección de elementos (valores o variables), cada uno identificado por al menos un índice o clave. Un array se almacena de modo que la posición de cada elemento de pueda calcular a partir de su tupla de índice mediante una fórmula matemática. El tipo más simple de array es un array lineal, tambien llamado array unidimensional."
   ]
  },
  {
   "cell_type": "markdown",
   "id": "e2341969-4515-4e28-a12b-76a7b2fb7319",
   "metadata": {},
   "source": [
    "En Numpy: \n",
    "* Cada dimensión se denomina **axis**.\n",
    "* El número de dimensiones se denomina **rank**.\n",
    "* La lista de dimensiones con su correspondiente longitud se denomina **shape**.\n",
    "* El número total de elementos (multiplicación de la longitud de las dimensiones) se denomina **size**."
   ]
  },
  {
   "cell_type": "code",
   "execution_count": 2,
   "id": "0e5e8502-cafc-492e-9605-999d7b0250e1",
   "metadata": {},
   "outputs": [],
   "source": [
    "# Array cuyos valores son todos 0\n",
    "a = np.zeros((2,4))"
   ]
  },
  {
   "cell_type": "code",
   "execution_count": 3,
   "id": "525320d7-4421-42db-bea6-2248f67a6854",
   "metadata": {},
   "outputs": [
    {
     "data": {
      "text/plain": [
       "array([[0., 0., 0., 0.],\n",
       "       [0., 0., 0., 0.]])"
      ]
     },
     "execution_count": 3,
     "metadata": {},
     "output_type": "execute_result"
    }
   ],
   "source": [
    "a"
   ]
  },
  {
   "cell_type": "markdown",
   "id": "5e3d3c32-c0df-4957-8441-1d22f0513202",
   "metadata": {},
   "source": [
    "_**a**_ es un array:\n",
    "* Con dos **axis**, el primero de longitud 2 y el segundo de longitud 4.\n",
    "* Con un **rank** igual a 2 (x,y).\n",
    "* Con un **shape** igual (2,4).\n",
    "* Con un **size** igual a 8."
   ]
  },
  {
   "cell_type": "code",
   "execution_count": 4,
   "id": "67823a1e-989d-446d-836a-1511757e9dce",
   "metadata": {},
   "outputs": [
    {
     "data": {
      "text/plain": [
       "(2, 4)"
      ]
     },
     "execution_count": 4,
     "metadata": {},
     "output_type": "execute_result"
    }
   ],
   "source": [
    "a.shape"
   ]
  },
  {
   "cell_type": "code",
   "execution_count": 5,
   "id": "057f7f85-6c57-4a47-84b2-734c0cf24858",
   "metadata": {},
   "outputs": [
    {
     "data": {
      "text/plain": [
       "2"
      ]
     },
     "execution_count": 5,
     "metadata": {},
     "output_type": "execute_result"
    }
   ],
   "source": [
    "a.ndim"
   ]
  },
  {
   "cell_type": "code",
   "execution_count": 6,
   "id": "a0fd018c-d38f-46cc-9c84-e8e9987d0746",
   "metadata": {},
   "outputs": [
    {
     "data": {
      "text/plain": [
       "8"
      ]
     },
     "execution_count": 6,
     "metadata": {},
     "output_type": "execute_result"
    }
   ],
   "source": [
    "a.size"
   ]
  },
  {
   "cell_type": "markdown",
   "id": "e747342b-a80c-4523-a4d0-e2c06062a248",
   "metadata": {},
   "source": [
    "## Creación de Arrays"
   ]
  },
  {
   "cell_type": "code",
   "execution_count": 7,
   "id": "d793f863-6577-4ff4-ab29-411b0dc09b74",
   "metadata": {},
   "outputs": [
    {
     "data": {
      "text/plain": [
       "array([[[0., 0., 0., 0.],\n",
       "        [0., 0., 0., 0.],\n",
       "        [0., 0., 0., 0.]],\n",
       "\n",
       "       [[0., 0., 0., 0.],\n",
       "        [0., 0., 0., 0.],\n",
       "        [0., 0., 0., 0.]]])"
      ]
     },
     "execution_count": 7,
     "metadata": {},
     "output_type": "execute_result"
    }
   ],
   "source": [
    "# Array cuyos valores son todos 0\n",
    "np.zeros((2,3,4))"
   ]
  },
  {
   "cell_type": "code",
   "execution_count": 8,
   "id": "40286115-f3c1-4665-a1e8-629572c63f6d",
   "metadata": {},
   "outputs": [
    {
     "data": {
      "text/plain": [
       "array([[[1., 1., 1., 1.],\n",
       "        [1., 1., 1., 1.],\n",
       "        [1., 1., 1., 1.]],\n",
       "\n",
       "       [[1., 1., 1., 1.],\n",
       "        [1., 1., 1., 1.],\n",
       "        [1., 1., 1., 1.]]])"
      ]
     },
     "execution_count": 8,
     "metadata": {},
     "output_type": "execute_result"
    }
   ],
   "source": [
    "# Array cuyos valores son todos 1\n",
    "np.ones((2,3,4))"
   ]
  },
  {
   "cell_type": "code",
   "execution_count": 9,
   "id": "30da47fa-6d14-415b-805a-880830f25c6a",
   "metadata": {},
   "outputs": [
    {
     "data": {
      "text/plain": [
       "array([[[8, 8, 8, 8],\n",
       "        [8, 8, 8, 8],\n",
       "        [8, 8, 8, 8]],\n",
       "\n",
       "       [[8, 8, 8, 8],\n",
       "        [8, 8, 8, 8],\n",
       "        [8, 8, 8, 8]]])"
      ]
     },
     "execution_count": 9,
     "metadata": {},
     "output_type": "execute_result"
    }
   ],
   "source": [
    "# Array cuyos valores son todos los valores indicados como segundo parámetro de la función\n",
    "np.full((2,3,4), 8)"
   ]
  },
  {
   "cell_type": "code",
   "execution_count": 10,
   "id": "15868930-5e25-42d9-a168-60b70e4ae722",
   "metadata": {},
   "outputs": [
    {
     "data": {
      "text/plain": [
       "array([[[0., 0., 0., 0., 0., 0., 0., 0., 0.],\n",
       "        [0., 0., 0., 0., 0., 0., 0., 0., 0.],\n",
       "        [0., 0., 0., 0., 0., 0., 0., 0., 0.]],\n",
       "\n",
       "       [[0., 0., 0., 0., 0., 0., 0., 0., 0.],\n",
       "        [0., 0., 0., 0., 0., 0., 0., 0., 0.],\n",
       "        [0., 0., 0., 0., 0., 0., 0., 0., 0.]]])"
      ]
     },
     "execution_count": 10,
     "metadata": {},
     "output_type": "execute_result"
    }
   ],
   "source": [
    "# El resultado de np.empty no es predecible\n",
    "# Inicializa los valores del array con lo que haya en memoria en ese momento \n",
    "np.empty((2,3,9))"
   ]
  },
  {
   "cell_type": "code",
   "execution_count": 11,
   "id": "acc736c0-d5a8-4a47-a4f3-2f8d1d12110f",
   "metadata": {},
   "outputs": [
    {
     "data": {
      "text/plain": [
       "array([[1, 2, 3],\n",
       "       [4, 5, 6]])"
      ]
     },
     "execution_count": 11,
     "metadata": {},
     "output_type": "execute_result"
    }
   ],
   "source": [
    "# Inicialización del array utilizando un array de Python\n",
    "b = np.array([[1,2,3],[4,5,6]])\n",
    "b"
   ]
  },
  {
   "cell_type": "code",
   "execution_count": 12,
   "id": "ce2a175c-c24f-4b75-8e70-54882ee7e65a",
   "metadata": {},
   "outputs": [
    {
     "data": {
      "text/plain": [
       "(2, 3)"
      ]
     },
     "execution_count": 12,
     "metadata": {},
     "output_type": "execute_result"
    }
   ],
   "source": [
    "b.shape"
   ]
  },
  {
   "cell_type": "code",
   "execution_count": 13,
   "id": "f471d82c-4ca5-4ff4-adfe-5207e3e15cb5",
   "metadata": {},
   "outputs": [
    {
     "name": "stdout",
     "output_type": "stream",
     "text": [
      "[0.         0.66666667 1.33333333 2.         2.66666667 3.33333333\n",
      " 4.         4.66666667 5.33333333 6.        ]\n"
     ]
    }
   ],
   "source": [
    "# Creación del array utilizando una función basada en rangos \n",
    "# (minimo , maximo, número de elementos del array)\n",
    "print(np.linspace(0,6,10))"
   ]
  },
  {
   "cell_type": "code",
   "execution_count": 14,
   "id": "e52a29e2-9787-4170-bd3b-18e991e58c5c",
   "metadata": {},
   "outputs": [
    {
     "data": {
      "text/plain": [
       "array([[[0.76735692, 0.52020612, 0.95234919, 0.12416517],\n",
       "        [0.51435112, 0.26198854, 0.29377867, 0.94483607],\n",
       "        [0.23586609, 0.94106218, 0.27046326, 0.19876429]],\n",
       "\n",
       "       [[0.54276522, 0.1176263 , 0.06811164, 0.39533314],\n",
       "        [0.03733468, 0.24768439, 0.31856318, 0.80690617],\n",
       "        [0.33645161, 0.66776823, 0.73408532, 0.80341684]]])"
      ]
     },
     "execution_count": 14,
     "metadata": {},
     "output_type": "execute_result"
    }
   ],
   "source": [
    "# Inicializar un array con valores aleatorios.\n",
    "np.random.rand(2,3,4)"
   ]
  },
  {
   "cell_type": "code",
   "execution_count": 15,
   "id": "5cdf6b77-60cb-4579-b952-d3412a94b579",
   "metadata": {},
   "outputs": [
    {
     "data": {
      "text/plain": [
       "array([[-0.19799515,  0.40154796, -1.19222497, -0.81636668],\n",
       "       [ 1.33463107,  1.10923466, -0.5249231 ,  1.02136782]])"
      ]
     },
     "execution_count": 15,
     "metadata": {},
     "output_type": "execute_result"
    }
   ],
   "source": [
    "# Inicializar un array con valores aleatorios conforme a una distribución normal\n",
    "np.random.randn(2,4)"
   ]
  },
  {
   "cell_type": "code",
   "execution_count": 16,
   "id": "8a44377f-c3b6-4663-95a4-174c7aa6678d",
   "metadata": {},
   "outputs": [
    {
     "data": {
      "image/png": "[encoded data removed]",
      "text/plain": [
       "<Figure size 640x480 with 1 Axes>"
      ]
     },
     "metadata": {},
     "output_type": "display_data"
    }
   ],
   "source": [
    "%matplotlib inline\n",
    "import matplotlib.pyplot as plt\n",
    "\n",
    "c = np.random.randn(100000)\n",
    "\n",
    "plt.hist(c, bins = 300)\n",
    "\n",
    "plt.show()"
   ]
  },
  {
   "cell_type": "code",
   "execution_count": 17,
   "id": "4b2e4103-563d-414c-a1fd-ae6a8310bc6d",
   "metadata": {},
   "outputs": [
    {
     "data": {
      "text/plain": [
       "array([[ 0.,  2.,  4.,  6.,  8.],\n",
       "       [ 1.,  3.,  5.,  7.,  9.],\n",
       "       [ 2.,  4.,  6.,  8., 10.]])"
      ]
     },
     "execution_count": 17,
     "metadata": {},
     "output_type": "execute_result"
    }
   ],
   "source": [
    "# Inicializar un array utilizando una función personalizada \n",
    "def func(x, y):\n",
    "    return x + 2 * y\n",
    "\n",
    "np.fromfunction(func, (3, 5))"
   ]
  },
  {
   "cell_type": "markdown",
   "id": "6e4e7e34-72d4-485b-a148-51bce2233197",
   "metadata": {},
   "source": [
    "## Acceso a los elementos de un array \n",
    "### Array unidimensional"
   ]
  },
  {
   "cell_type": "code",
   "execution_count": 18,
   "id": "014f80c2-4f7f-4f05-acd9-22205b43c9c2",
   "metadata": {},
   "outputs": [
    {
     "name": "stdout",
     "output_type": "stream",
     "text": [
      "Shape:  (6,)\n",
      "Array_uni:  [ 1  3  5  7  9 11]\n"
     ]
    }
   ],
   "source": [
    "# Creación de un array unidimensional\n",
    "array_uni = np.array([1, 3, 5, 7, 9, 11])\n",
    "print(\"Shape: \", array_uni.shape)\n",
    "print(\"Array_uni: \", array_uni)"
   ]
  },
  {
   "cell_type": "code",
   "execution_count": 19,
   "id": "5557290d-d53e-4c80-9f72-a41e1f4dff97",
   "metadata": {},
   "outputs": [
    {
     "data": {
      "text/plain": [
       "9"
      ]
     },
     "execution_count": 19,
     "metadata": {},
     "output_type": "execute_result"
    }
   ],
   "source": [
    "# Accediendo al quinto elemento del Array.\n",
    "array_uni[4]"
   ]
  },
  {
   "cell_type": "code",
   "execution_count": 20,
   "id": "7d27e92d-aedb-44cb-bf10-129c916069da",
   "metadata": {},
   "outputs": [
    {
     "data": {
      "text/plain": [
       "array([5, 7])"
      ]
     },
     "execution_count": 20,
     "metadata": {},
     "output_type": "execute_result"
    }
   ],
   "source": [
    "# Accediendo al tercer y cuarto elemento del Array\n",
    "array_uni[2:4]"
   ]
  },
  {
   "cell_type": "code",
   "execution_count": 21,
   "id": "dc9a5cad-4a5f-4298-a3a3-01c6e7e6bba8",
   "metadata": {},
   "outputs": [
    {
     "data": {
      "text/plain": [
       "array([ 1, 11])"
      ]
     },
     "execution_count": 21,
     "metadata": {},
     "output_type": "execute_result"
    }
   ],
   "source": [
    "# Accerder a los elementos 0, 3, 5 del Array\n",
    "array_uni[0::5]"
   ]
  },
  {
   "cell_type": "markdown",
   "id": "683fb6fd-fbc0-467c-a5ab-e34532e47a30",
   "metadata": {},
   "source": [
    "## Array multidimensional"
   ]
  },
  {
   "cell_type": "code",
   "execution_count": 22,
   "id": "1c876a2e-66c1-4b22-b313-bb6628859adb",
   "metadata": {},
   "outputs": [
    {
     "name": "stdout",
     "output_type": "stream",
     "text": [
      "Shape:  (2, 4)\n",
      "Array_multi: \n",
      " [[1 2 3 4]\n",
      " [5 6 7 8]]\n"
     ]
    }
   ],
   "source": [
    "# Creacion de un Array multidimensional \n",
    "array_multi = np.array([[1, 2, 3, 4], [5, 6, 7, 8]])\n",
    "print(\"Shape: \", array_multi.shape)\n",
    "print(\"Array_multi: \\n\", array_multi)"
   ]
  },
  {
   "cell_type": "code",
   "execution_count": 23,
   "id": "dbdd7ff0-feaa-4539-bb8b-d91be8bdb99b",
   "metadata": {},
   "outputs": [
    {
     "data": {
      "text/plain": [
       "4"
      ]
     },
     "execution_count": 23,
     "metadata": {},
     "output_type": "execute_result"
    }
   ],
   "source": [
    "# Accediendo al cuarto elemento del Array \n",
    "array_multi[0,3]"
   ]
  },
  {
   "cell_type": "code",
   "execution_count": 24,
   "id": "5f762d35-f11c-4817-8652-51b30e461be7",
   "metadata": {},
   "outputs": [
    {
     "data": {
      "text/plain": [
       "array([5, 6, 7, 8])"
      ]
     },
     "execution_count": 24,
     "metadata": {},
     "output_type": "execute_result"
    }
   ],
   "source": [
    "# Accediendo a la segunda fila del Array\n",
    "array_multi[1, :]"
   ]
  },
  {
   "cell_type": "code",
   "execution_count": 25,
   "id": "e5ba3f4c-0bae-43ad-96d0-e0020f4c5d34",
   "metadata": {},
   "outputs": [
    {
     "data": {
      "text/plain": [
       "array([3, 7])"
      ]
     },
     "execution_count": 25,
     "metadata": {},
     "output_type": "execute_result"
    }
   ],
   "source": [
    "# Accediendo al tercer elemento de las dos primeras filas del Array\n",
    "array_multi[0:2, 2]"
   ]
  },
  {
   "cell_type": "markdown",
   "id": "1355f827-fd8c-4a1d-9078-b0c488b3d840",
   "metadata": {},
   "source": [
    "## Modificacion de un Array"
   ]
  },
  {
   "cell_type": "code",
   "execution_count": 26,
   "id": "d56cf17b-f1ad-4781-a1ab-c898f71e9c32",
   "metadata": {},
   "outputs": [
    {
     "name": "stdout",
     "output_type": "stream",
     "text": [
      "Shape:  (28,)\n",
      "Array 1:  [ 0  1  2  3  4  5  6  7  8  9 10 11 12 13 14 15 16 17 18 19 20 21 22 23\n",
      " 24 25 26 27]\n"
     ]
    }
   ],
   "source": [
    "# Creación de un array unidimensional inicializado con el rango de elementos que van del 0 al 27\n",
    "array1 = np.arange(28)\n",
    "print(\"Shape: \", array1.shape)\n",
    "print(\"Array 1: \", array1)"
   ]
  },
  {
   "cell_type": "code",
   "execution_count": 27,
   "id": "a039056b-a659-407c-a407-94e457fe6786",
   "metadata": {},
   "outputs": [
    {
     "name": "stdout",
     "output_type": "stream",
     "text": [
      "Shape:  (7, 4)\n",
      "Array 1: \n",
      " [[ 0  1  2  3]\n",
      " [ 4  5  6  7]\n",
      " [ 8  9 10 11]\n",
      " [12 13 14 15]\n",
      " [16 17 18 19]\n",
      " [20 21 22 23]\n",
      " [24 25 26 27]]\n"
     ]
    }
   ],
   "source": [
    "# Cambiar las dimensiones del Array y longitudes\n",
    "array1.shape = (7,4)\n",
    "print(\"Shape: \", array1.shape)\n",
    "print(\"Array 1: \\n\", array1)"
   ]
  },
  {
   "cell_type": "code",
   "execution_count": 28,
   "id": "62495bb5-ae42-45a3-b9c0-5c7dc0b74b47",
   "metadata": {},
   "outputs": [
    {
     "name": "stdout",
     "output_type": "stream",
     "text": [
      "Shape:  (4, 7)\n",
      "Array 2: \n",
      " [[ 0  1  2  3  4  5  6]\n",
      " [ 7  8  9 10 11 12 13]\n",
      " [14 15 16 17 18 19 20]\n",
      " [21 22 23 24 25 26 27]]\n"
     ]
    }
   ],
   "source": [
    "# El ejemplo anterior devuelve un nuevo Array que apunta a los mismos datos\n",
    "# Nota: las modificaciones en un array modifican el otro array\n",
    "array2 = array1.reshape(4,7)\n",
    "print(\"Shape: \", array2.shape)\n",
    "print(\"Array 2: \\n\", array2)"
   ]
  },
  {
   "cell_type": "code",
   "execution_count": 29,
   "id": "766f8b90-8b25-4402-b361-01763c911375",
   "metadata": {},
   "outputs": [
    {
     "name": "stdout",
     "output_type": "stream",
     "text": [
      "Array 2: \n",
      " [[ 0  1  2 20  4  5  6]\n",
      " [ 7  8  9 10 11 12 13]\n",
      " [14 15 16 17 18 19 20]\n",
      " [21 22 23 24 25 26 27]]\n"
     ]
    }
   ],
   "source": [
    "# Modificación del Array Devuelto \n",
    "array2[0,3] = 20\n",
    "print(\"Array 2: \\n\", array2)"
   ]
  },
  {
   "cell_type": "code",
   "execution_count": 30,
   "id": "1c25b67f-aa11-4d3b-bc6b-f111eab74586",
   "metadata": {},
   "outputs": [
    {
     "name": "stdout",
     "output_type": "stream",
     "text": [
      "Array 1: \n",
      " [[ 0  1  2 20]\n",
      " [ 4  5  6  7]\n",
      " [ 8  9 10 11]\n",
      " [12 13 14 15]\n",
      " [16 17 18 19]\n",
      " [20 21 22 23]\n",
      " [24 25 26 27]]\n"
     ]
    }
   ],
   "source": [
    "print(\"Array 1: \\n\", array1)"
   ]
  },
  {
   "cell_type": "code",
   "execution_count": 31,
   "id": "1817e303-e02e-4a8b-b122-cb53a691200e",
   "metadata": {},
   "outputs": [
    {
     "name": "stdout",
     "output_type": "stream",
     "text": [
      "Array 1: \n",
      " [ 0  1  2 20  4  5  6  7  8  9 10 11 12 13 14 15 16 17 18 19 20 21 22 23\n",
      " 24 25 26 27]\n"
     ]
    }
   ],
   "source": [
    "# Devuelve el Array a una sola dimensión\n",
    "# Nota: El nuevo Array apunta a los mismos datos \n",
    "print(\"Array 1: \\n\", array1.ravel())"
   ]
  },
  {
   "cell_type": "markdown",
   "id": "a98e6f2e-6bea-4934-8f60-f0db2bc14702",
   "metadata": {},
   "source": [
    "## Operaciones aritméticas con Arrays"
   ]
  },
  {
   "cell_type": "code",
   "execution_count": 32,
   "id": "1600ae1a-123b-42ab-ba9f-9e419ae8d50a",
   "metadata": {},
   "outputs": [
    {
     "name": "stdout",
     "output_type": "stream",
     "text": [
      "Array 1: \n",
      " [ 2  4  6  8 10 12 14 16]\n",
      "Array 2: \n",
      " [0 1 2 3 4 5 6 7]\n"
     ]
    }
   ],
   "source": [
    "# Creacion de dos array unidimensionales\n",
    "array1 =  np.arange(2, 18, 2)\n",
    "array2 = np.arange(8)\n",
    "print(\"Array 1: \\n\", array1)\n",
    "print(\"Array 2: \\n\", array2)"
   ]
  },
  {
   "cell_type": "code",
   "execution_count": 33,
   "id": "539ce5a2-6916-4b21-8946-69819b9f7f7a",
   "metadata": {},
   "outputs": [
    {
     "name": "stdout",
     "output_type": "stream",
     "text": [
      "[ 2  5  8 11 14 17 20 23]\n"
     ]
    }
   ],
   "source": [
    "# Suma \n",
    "print(array1 + array2)"
   ]
  },
  {
   "cell_type": "code",
   "execution_count": 34,
   "id": "bae3a4be-a758-423e-bda2-2baa35d5036c",
   "metadata": {},
   "outputs": [
    {
     "name": "stdout",
     "output_type": "stream",
     "text": [
      "[2 3 4 5 6 7 8 9]\n"
     ]
    }
   ],
   "source": [
    "# Resta\n",
    "print(array1 - array2)"
   ]
  },
  {
   "cell_type": "code",
   "execution_count": 35,
   "id": "ebd803bd-c447-4296-b057-214c97a19281",
   "metadata": {},
   "outputs": [
    {
     "name": "stdout",
     "output_type": "stream",
     "text": [
      "[  0   4  12  24  40  60  84 112]\n"
     ]
    }
   ],
   "source": [
    "# Multiplicación\n",
    "# Nota: No es una multiplicacion de matrices.\n",
    "print(array1 * array2)"
   ]
  },
  {
   "cell_type": "markdown",
   "id": "c4c7c025-f687-4bff-9103-989bd0d4e5e1",
   "metadata": {},
   "source": [
    "## Broadcasting\n",
    "Si se aplican operaciónes aritméticas sobre Arrays que no tienen la misma forma (shape), Numpy aplica una propiedad que se denomina Broadcasting."
   ]
  },
  {
   "cell_type": "code",
   "execution_count": 36,
   "id": "c3fb14f6-ff41-4daf-b38c-fe88d58da567",
   "metadata": {},
   "outputs": [
    {
     "name": "stdout",
     "output_type": "stream",
     "text": [
      "Shape:  (5,)\n",
      "Array 1: \n",
      " [0 1 2 3 4]\n",
      "Shape:  (1,)\n",
      "Array 2: \n",
      " [3]\n"
     ]
    }
   ],
   "source": [
    "# Creación de dos Array unidimensionales\n",
    "array1 = np.arange(5)\n",
    "array2 = np.array([3])\n",
    "print(\"Shape: \", array1.shape)\n",
    "print(\"Array 1: \\n\", array1)\n",
    "print(\"Shape: \", array2.shape)\n",
    "print(\"Array 2: \\n\", array2)"
   ]
  },
  {
   "cell_type": "code",
   "execution_count": 37,
   "id": "d2cd4509-8eeb-4bc9-95bf-16a4343e1404",
   "metadata": {},
   "outputs": [
    {
     "data": {
      "text/plain": [
       "array([3, 4, 5, 6, 7])"
      ]
     },
     "execution_count": 37,
     "metadata": {},
     "output_type": "execute_result"
    }
   ],
   "source": [
    "# Suma de ambos Arrays\n",
    "array1 + array2"
   ]
  },
  {
   "cell_type": "code",
   "execution_count": 38,
   "id": "8ceae038-ba9a-4b8f-9427-8a596eba7ad0",
   "metadata": {},
   "outputs": [
    {
     "name": "stdout",
     "output_type": "stream",
     "text": [
      "Shape:  (2, 3)\n",
      "Array 1: \n",
      " [[0 1 2]\n",
      " [3 4 5]]\n",
      "Shape:  (3,)\n",
      "Array 2: \n",
      " [ 6 10 14]\n"
     ]
    }
   ],
   "source": [
    "# Creacion de dos Arrays multidimensionales y unidimensioales\n",
    "array1 = np.arange(6)\n",
    "array1.shape = (2,3)\n",
    "array2 = np.arange(6, 18, 4)\n",
    "print(\"Shape: \", array1.shape)\n",
    "print(\"Array 1: \\n\", array1)\n",
    "print(\"Shape: \", array2.shape)\n",
    "print(\"Array 2: \\n\", array2)"
   ]
  },
  {
   "cell_type": "code",
   "execution_count": 39,
   "id": "a47d8431-6937-41d4-adf2-ef5760239651",
   "metadata": {},
   "outputs": [
    {
     "data": {
      "text/plain": [
       "array([[ 6, 11, 16],\n",
       "       [ 9, 14, 19]])"
      ]
     },
     "execution_count": 39,
     "metadata": {},
     "output_type": "execute_result"
    }
   ],
   "source": [
    "# Suma de ambos Arrays\n",
    "array1 + array2"
   ]
  },
  {
   "cell_type": "markdown",
   "id": "ef0f53b3-a4d9-4096-b1e2-a49ae345bd3b",
   "metadata": {},
   "source": [
    "## Funciones estadistícas sobre Arrays "
   ]
  },
  {
   "cell_type": "code",
   "execution_count": 40,
   "id": "b7027a13-4855-4dd4-b17d-1955c8aca992",
   "metadata": {},
   "outputs": [
    {
     "name": "stdout",
     "output_type": "stream",
     "text": [
      "Array 1: \n",
      " [ 1  3  5  7  9 11 13 15 17 19]\n"
     ]
    }
   ],
   "source": [
    "# Creación de un Array unidimensional\n",
    "array1 = np.arange(1, 20, 2)\n",
    "print(\"Array 1: \\n\", array1)"
   ]
  },
  {
   "cell_type": "code",
   "execution_count": 41,
   "id": "88d5c5e3-d483-4a4d-8323-0fc8cf47addf",
   "metadata": {},
   "outputs": [
    {
     "data": {
      "text/plain": [
       "10.0"
      ]
     },
     "execution_count": 41,
     "metadata": {},
     "output_type": "execute_result"
    }
   ],
   "source": [
    "# Media de los elementos del Array \n",
    "array1.mean()"
   ]
  },
  {
   "cell_type": "code",
   "execution_count": 42,
   "id": "7e93ab3c-bcd4-4cda-9851-a778dfc74f0e",
   "metadata": {},
   "outputs": [
    {
     "data": {
      "text/plain": [
       "100"
      ]
     },
     "execution_count": 42,
     "metadata": {},
     "output_type": "execute_result"
    }
   ],
   "source": [
    "# Suma de los elementos del Array\n",
    "array1.sum()"
   ]
  },
  {
   "cell_type": "markdown",
   "id": "fc1daebe-d392-4bcc-b0c1-879256271a38",
   "metadata": {},
   "source": [
    "Funciones universales eficientes proporcionadas por Numpy: **ufunc**."
   ]
  },
  {
   "cell_type": "code",
   "execution_count": 43,
   "id": "9edf2160-391f-4104-8e0e-14650ab6b0cf",
   "metadata": {},
   "outputs": [
    {
     "data": {
      "text/plain": [
       "array([  1,   9,  25,  49,  81, 121, 169, 225, 289, 361])"
      ]
     },
     "execution_count": 43,
     "metadata": {},
     "output_type": "execute_result"
    }
   ],
   "source": [
    "# Cuadrados de los elementos del Array\n",
    "np.square(array1)"
   ]
  },
  {
   "cell_type": "code",
   "execution_count": 44,
   "id": "b64ee84f-30eb-43d1-bd6b-b646bfccc4f6",
   "metadata": {},
   "outputs": [
    {
     "data": {
      "text/plain": [
       "array([1.        , 1.73205081, 2.23606798, 2.64575131, 3.        ,\n",
       "       3.31662479, 3.60555128, 3.87298335, 4.12310563, 4.35889894])"
      ]
     },
     "execution_count": 44,
     "metadata": {},
     "output_type": "execute_result"
    }
   ],
   "source": [
    "# Raiz cuadrada de los elementos del Array\n",
    "np.sqrt(array1)"
   ]
  },
  {
   "cell_type": "code",
   "execution_count": 45,
   "id": "4c251c40-79e1-4438-8d40-0a6ba8194a76",
   "metadata": {},
   "outputs": [
    {
     "data": {
      "text/plain": [
       "array([2.71828183e+00, 2.00855369e+01, 1.48413159e+02, 1.09663316e+03,\n",
       "       8.10308393e+03, 5.98741417e+04, 4.42413392e+05, 3.26901737e+06,\n",
       "       2.41549528e+07, 1.78482301e+08])"
      ]
     },
     "execution_count": 45,
     "metadata": {},
     "output_type": "execute_result"
    }
   ],
   "source": [
    "# Exponencial de los elementos del Array\n",
    "np.exp(array1)"
   ]
  },
  {
   "cell_type": "code",
   "execution_count": 46,
   "id": "8e2738f8-2388-4bb8-b15e-fea027913f1d",
   "metadata": {},
   "outputs": [
    {
     "data": {
      "text/plain": [
       "array([0.        , 1.09861229, 1.60943791, 1.94591015, 2.19722458,\n",
       "       2.39789527, 2.56494936, 2.7080502 , 2.83321334, 2.94443898])"
      ]
     },
     "execution_count": 46,
     "metadata": {},
     "output_type": "execute_result"
    }
   ],
   "source": [
    "# Logaritmo natural de los elementos del Array\n",
    "np.log(array1)"
   ]
  },
  {
   "cell_type": "code",
   "execution_count": null,
   "id": "25764678-1088-49ca-bf3f-3b9951887794",
   "metadata": {},
   "outputs": [],
   "source": []
  }
 ],
 "metadata": {
  "kernelspec": {
   "display_name": "Python 3 (ipykernel)",
   "language": "python",
   "name": "python3"
  },
  "language_info": {
   "codemirror_mode": {
    "name": "ipython",
    "version": 3
   },
   "file_extension": ".py",
   "mimetype": "text/x-python",
   "name": "python",
   "nbconvert_exporter": "python",
   "pygments_lexer": "ipython3",
   "version": "3.10.14"
  }
 },
 "nbformat": 4,
 "nbformat_minor": 5
}
